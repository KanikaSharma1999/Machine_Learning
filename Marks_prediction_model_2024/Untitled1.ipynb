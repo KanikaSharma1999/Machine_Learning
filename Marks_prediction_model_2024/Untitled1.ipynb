{
 "cells": [
  {
   "cell_type": "code",
   "execution_count": 15,
   "id": "88243c9a",
   "metadata": {},
   "outputs": [
    {
     "name": "stdout",
     "output_type": "stream",
     "text": [
      "Enter the no. of hrs you study:-3\n",
      "You will get: [30.]\n"
     ]
    }
   ],
   "source": [
    "import joblib\n",
    "mind=joblib.load(\"predictmarks.model\")\n",
    "hrs=input(\"Enter the no. of hrs you study:-\")\n",
    "finalmarks=model.predict([[int(hrs)]])\n",
    "print(\"You will get:\",finalmarks)"
   ]
  },
  {
   "cell_type": "code",
   "execution_count": 4,
   "id": "5fe57e16",
   "metadata": {},
   "outputs": [],
   "source": [
    "mind=joblib.load(\"predictmarks.model\")"
   ]
  },
  {
   "cell_type": "code",
   "execution_count": 11,
   "id": "c28e39bb",
   "metadata": {},
   "outputs": [
    {
     "name": "stdout",
     "output_type": "stream",
     "text": [
      "Enter the no. of hrs you study:-4\n"
     ]
    }
   ],
   "source": [
    "hrs=input(\"Enter the no. of hrs you study:-\")"
   ]
  },
  {
   "cell_type": "code",
   "execution_count": 12,
   "id": "1a139a76",
   "metadata": {},
   "outputs": [],
   "source": [
    "finalmarks=model.predict([[int(hrs)]])"
   ]
  },
  {
   "cell_type": "code",
   "execution_count": 13,
   "id": "fd64a374",
   "metadata": {},
   "outputs": [
    {
     "data": {
      "text/plain": [
       "array([40.])"
      ]
     },
     "execution_count": 13,
     "metadata": {},
     "output_type": "execute_result"
    }
   ],
   "source": [
    "finalmarks"
   ]
  },
  {
   "cell_type": "code",
   "execution_count": null,
   "id": "cd0f1a9f",
   "metadata": {},
   "outputs": [],
   "source": []
  }
 ],
 "metadata": {
  "kernelspec": {
   "display_name": "Python 3 (ipykernel)",
   "language": "python",
   "name": "python3"
  },
  "language_info": {
   "codemirror_mode": {
    "name": "ipython",
    "version": 3
   },
   "file_extension": ".py",
   "mimetype": "text/x-python",
   "name": "python",
   "nbconvert_exporter": "python",
   "pygments_lexer": "ipython3",
   "version": "3.11.3"
  }
 },
 "nbformat": 4,
 "nbformat_minor": 5
}
