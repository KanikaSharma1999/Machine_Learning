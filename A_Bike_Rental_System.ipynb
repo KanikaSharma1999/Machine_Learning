{
  "nbformat": 4,
  "nbformat_minor": 0,
  "metadata": {
    "colab": {
      "provenance": []
    },
    "kernelspec": {
      "name": "python3",
      "display_name": "Python 3"
    }
  },
  "cells": [
    {
      "cell_type": "markdown",
      "metadata": {
        "id": "SmXK2gdPy290"
      },
      "source": [
        "A Bike Rental System\n",
        "A full fledged bike rental system implemented in Python using object oriented programming.\n",
        "\n",
        "Customers can\n",
        "See available bikes on the shop\n",
        "Rent bikes on hourly basis $5 per hour.\n",
        "Rent bikes on daily basis $20 per day.\n",
        "Rent bikes on weekly basis $60 per week.\n",
        "Family Rental, a promotion that can include from 3 to 5 Rentals (of any type) with a discount of 30% of the total price\n",
        "The bike rental shop can\n",
        "issue a bill when customer decides to return the bike.\n",
        "display available inventory\n",
        "take requests on hourly, daily and weekly basis by cross verifying stock\n",
        "For simplicity we assume that\n",
        "Any customer requests rentals of only one type i.e hourly, monthly or weekly\n",
        "Is free to chose the number of bikes he/she wants\n",
        "Requested bikes should be less than available stock."
      ]
    },
    {
      "cell_type": "code",
      "metadata": {
        "id": "maOUpm-mzemB"
      },
      "source": [
        "import datetime\n",
        "\n",
        "class BikeRental:\n",
        "  def __init__(self,stock=10):\n",
        "    \"\"\"\n",
        "    Our constructor class that instantiates bike rental shop.\n",
        "    \"\"\"\n",
        "    self.stock = stock\n",
        "\n",
        "  def displaystock(self):\n",
        "    \"\"\"\n",
        "    Displays the bikes currently available for rent in the shop.\n",
        "    \"\"\"\n",
        "    print(\"We have currently {} bikes available to rent.\".format(self.stock))\n",
        "    return self.stock\n",
        "\n",
        "  def rentBikeOnHourlyBasis(self,n):\n",
        "    \"\"\"\n",
        "    Rents a bike on hourly basis to a customer\n",
        "    \"\"\"\n",
        "    #reject invalid input\n",
        "    if n <0:\n",
        "      print(\"Number of bikes should be positive!\")\n",
        "    elif n > self.stock:\n",
        "      print(\"Sorry! We have currently {} bikes available to rent.\".format(self.stock))\n",
        "      return None\n",
        "    #rent the bikes\n",
        "    else:\n",
        "      now = datetime.datetime.now()\n",
        "      print(\"You have rented a {} bike(s) on hourly basis today at {} hours.\".format(n,now.hour))\n",
        "      print(\"You will be charged $5 for each hour per bike.\")\n",
        "      print(\"We hope that you enjoy our service.\")\n",
        "\n",
        "      self.stock -=n\n",
        "      return now\n",
        "\n",
        "    def rentBikeOnDailyBasis(self,n):\n",
        "      \"\"\"\n",
        "      Rents bike on daily basis to a customer\n",
        "      \"\"\"\n",
        "\n",
        "      if n <= 0:\n",
        "        print(\"Number of bikes should be positive\")\n",
        "        return None\n",
        "      elif n > self.stock:\n",
        "        print(\"Sorry!! We have currently {} bikes available to rent.\".format(self.stock))\n",
        "        return None\n",
        "      else:\n",
        "        now=datatime.datetime.now()\n",
        "        print(\"You have rented {} bike(s) on daily basis today at {} hours.\".format(n, now.hour))\n",
        "        print(\"You will be charged $20 for each day per bike.\")\n",
        "        print(\"We hope that you enjoy our service.\")\n",
        "        self.stock -= n\n",
        "        return now\n",
        "\n",
        "    def rentBikeOnWeeklyBasis(self, n):\n",
        "        \"\"\"\n",
        "        Rents a bike on weekly basis to a customer.\n",
        "        \"\"\"\n",
        "        if n <= 0:\n",
        "            print(\"Number of bikes should be positive!\")\n",
        "            return None\n",
        "        elif n > self.stock:\n",
        "            print(\"Sorry! We have currently {} bikes available to rent.\".format(self.stock))\n",
        "            return None\n",
        "\n",
        "        else:\n",
        "            now = datetime.datetime.now()\n",
        "            print(\"You have rented {} bike(s) on weekly basis today at {} hours.\".format(n, now.hour))\n",
        "            print(\"You will be charged $60 for each week per bike.\")\n",
        "            print(\"We hope that you enjoy our service.\")\n",
        "            self.stock -= n\n",
        "            return now\n",
        "\n",
        "    def returnBike(self, request):\n",
        "        \"\"\"\n",
        "        1. Accept a rented bike from a customer\n",
        "        2. Replensihes the inventory\n",
        "        3. Return a bill\n",
        "        \"\"\"\n",
        "\n",
        "        # extract the tuple and initiate bill\n",
        "        rentalTime, rentalBasis, numOfBikes = request\n",
        "        bill = 0\n",
        "        # issue a bill only if all three parameters are not null!\n",
        "        if rentalTime and rentalBasis and numOfBikes:\n",
        "            self.stock += numOfBikes\n",
        "            now = datetime.datetime.now()\n",
        "            rentalPeriod = now - rentalTime\n",
        "\n",
        "            # hourly bill calculation\n",
        "            if rentalBasis == 1:\n",
        "                bill = round(rentalPeriod.seconds / 3600) * 5 * numOfBikes\n",
        "\n",
        "            # daily bill calculation\n",
        "            elif rentalBasis == 2:\n",
        "                bill = round(rentalPeriod.days) * 20 * numOfBikes\n",
        "\n",
        "            # weekly bill calculation\n",
        "            elif rentalBasis == 3:\n",
        "                bill = round(rentalPeriod.days / 7) * 60 * numOfBikes\n",
        "\n",
        "            # family discount calculation\n",
        "            if (3 <= numOfBikes <= 5):\n",
        "                print(\"You are eligible for Family rental promotion of 30% discount\")\n",
        "                bill = bill * 0.7\n",
        "            print(\"Thanks for returning your bike. Hope you enjoyed our service!\")\n",
        "            print(\"That would be ${}\".format(bill))\n",
        "            return bill\n",
        "\n",
        "        else:\n",
        "            print(\"Are you sure you rented a bike with us?\")\n",
        "            return None\n",
        "class Customer:\n",
        "    def __init__(self):\n",
        "        \"\"\"\n",
        "        Our constructor method which instantiates various customer objects.\n",
        "        \"\"\"\n",
        "\n",
        "        self.bikes = 0\n",
        "        self.rentalBasis = 0\n",
        "        self.rentalTime = 0\n",
        "        self.bill = 0\n",
        "\n",
        "    def requestBike(self):\n",
        "        \"\"\"\n",
        "        Takes a request from the customer for the number of bikes.\n",
        "        \"\"\"\n",
        "\n",
        "        bikes = input(\"How many bikes would you like to rent?\")\n",
        "\n",
        "        # implement logic for invalid input\n",
        "        try:\n",
        "            bikes = int(bikes)\n",
        "        except ValueError:\n",
        "            print(\"That's not a positive integer!\")\n",
        "            return -1\n",
        "        if bikes < 1:\n",
        "            print(\"Invalid input. Number of bikes should be greater than zero!\")\n",
        "            return -1\n",
        "        else:\n",
        "            self.bikes = bikes\n",
        "        return self.bikes\n",
        "\n",
        "    def returnBike(self):\n",
        "        \"\"\"\n",
        "        Allows customers to return their bikes to the rental shop.\n",
        "        \"\"\"\n",
        "        if self.rentalBasis and self.rentalTime and self.bikes:\n",
        "            return self.rentalTime, self.rentalBasis, self.bikes\n",
        "        else:\n",
        "            return 0,0,0"
      ],
      "execution_count": null,
      "outputs": []
    },
    {
      "cell_type": "code",
      "metadata": {
        "id": "kiMVW-gwzJJi"
      },
      "source": [
        "s1=BikeRental()"
      ],
      "execution_count": null,
      "outputs": []
    },
    {
      "cell_type": "code",
      "metadata": {
        "colab": {
          "base_uri": "https://localhost:8080/"
        },
        "id": "vNnkCHyJzBTD",
        "outputId": "b5692c4f-2e19-4dec-cdab-69a7f1f285e9"
      },
      "source": [
        "s1.__dict__"
      ],
      "execution_count": null,
      "outputs": [
        {
          "output_type": "execute_result",
          "data": {
            "text/plain": [
              "{'stock': 10}"
            ]
          },
          "metadata": {
            "tags": []
          },
          "execution_count": 28
        }
      ]
    },
    {
      "cell_type": "code",
      "metadata": {
        "colab": {
          "base_uri": "https://localhost:8080/"
        },
        "id": "TI5hc4Kn3CKm",
        "outputId": "6ceedc45-07e5-4151-b688-fd7c504f2f02"
      },
      "source": [
        "s1.displaystock()"
      ],
      "execution_count": null,
      "outputs": [
        {
          "output_type": "stream",
          "text": [
            "We have currently 5 bikes available to rent.\n"
          ],
          "name": "stdout"
        },
        {
          "output_type": "execute_result",
          "data": {
            "text/plain": [
              "5"
            ]
          },
          "metadata": {
            "tags": []
          },
          "execution_count": 30
        }
      ]
    },
    {
      "cell_type": "code",
      "metadata": {
        "colab": {
          "base_uri": "https://localhost:8080/"
        },
        "id": "942LYELz3KpR",
        "outputId": "dc812f4d-160b-4b8c-b579-a3bbea7fc0d4"
      },
      "source": [
        "s1.rentBikeOnHourlyBasis(5)"
      ],
      "execution_count": null,
      "outputs": [
        {
          "output_type": "stream",
          "text": [
            "You have rented a 5 bike(s) on hourly basis today at 3 hours.\n",
            "You will be charged $5 for each hour per bike.\n",
            "We hope that you enjoy our service.\n"
          ],
          "name": "stdout"
        },
        {
          "output_type": "execute_result",
          "data": {
            "text/plain": [
              "datetime.datetime(2020, 12, 19, 3, 27, 49, 233246)"
            ]
          },
          "metadata": {
            "tags": []
          },
          "execution_count": 29
        }
      ]
    },
    {
      "cell_type": "code",
      "metadata": {
        "id": "JhdEkPd94_zT"
      },
      "source": [
        "import datetime as dt\n"
      ],
      "execution_count": null,
      "outputs": []
    },
    {
      "cell_type": "code",
      "metadata": {
        "colab": {
          "base_uri": "https://localhost:8080/"
        },
        "id": "o6Di-7Y4_z3E",
        "outputId": "4e0c2d6e-c0db-4815-fb8f-8681f41c5527"
      },
      "source": [
        "s2=Customer()\n",
        "s2.requestBike()"
      ],
      "execution_count": null,
      "outputs": [
        {
          "output_type": "stream",
          "text": [
            "How many bikes would you like to rent?10\n"
          ],
          "name": "stdout"
        },
        {
          "output_type": "execute_result",
          "data": {
            "text/plain": [
              "10"
            ]
          },
          "metadata": {
            "tags": []
          },
          "execution_count": 24
        }
      ]
    },
    {
      "cell_type": "code",
      "metadata": {
        "colab": {
          "base_uri": "https://localhost:8080/"
        },
        "id": "LeOE7YuLB1mx",
        "outputId": "6b9cfbf3-8da6-427e-9a83-8646f575964b"
      },
      "source": [
        "s1.displaystock()"
      ],
      "execution_count": null,
      "outputs": [
        {
          "output_type": "stream",
          "text": [
            "We have currently 0 bikes available to rent.\n"
          ],
          "name": "stdout"
        },
        {
          "output_type": "execute_result",
          "data": {
            "text/plain": [
              "0"
            ]
          },
          "metadata": {
            "tags": []
          },
          "execution_count": 25
        }
      ]
    },
    {
      "cell_type": "code",
      "metadata": {
        "id": "Xf0DXIDGCByf"
      },
      "source": [],
      "execution_count": null,
      "outputs": []
    }
  ]
}
