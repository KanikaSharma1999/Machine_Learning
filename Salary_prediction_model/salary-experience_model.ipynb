{
 "cells": [
  {
   "cell_type": "code",
   "execution_count": 1,
   "id": "9571a826",
   "metadata": {},
   "outputs": [],
   "source": [
    "import joblib\n"
   ]
  },
  {
   "cell_type": "code",
   "execution_count": 2,
   "id": "cb6c2df1",
   "metadata": {},
   "outputs": [],
   "source": [
    "mind=joblib.load(\"predictsalary.model\")\n"
   ]
  },
  {
   "cell_type": "code",
   "execution_count": 3,
   "id": "f19f218e",
   "metadata": {},
   "outputs": [
    {
     "name": "stdout",
     "output_type": "stream",
     "text": [
      "Enter the no. of experience in months:-17\n"
     ]
    }
   ],
   "source": [
    "exp=input(\"Enter the no. of experience in months:-\")\n"
   ]
  },
  {
   "cell_type": "code",
   "execution_count": 9,
   "id": "629a7d0f",
   "metadata": {},
   "outputs": [],
   "source": [
    "salary=mind.predict([[int(exp)]])\n"
   ]
  },
  {
   "cell_type": "code",
   "execution_count": 6,
   "id": "e0f522e7",
   "metadata": {},
   "outputs": [
    {
     "name": "stdout",
     "output_type": "stream",
     "text": [
      "You will get: [19.18711181] Thousand\n"
     ]
    }
   ],
   "source": [
    "print(\"You will get:\",salary,\"Thousand\")"
   ]
  },
  {
   "cell_type": "code",
   "execution_count": null,
   "id": "54635b56",
   "metadata": {},
   "outputs": [],
   "source": []
  }
 ],
 "metadata": {
  "kernelspec": {
   "display_name": "Python 3 (ipykernel)",
   "language": "python",
   "name": "python3"
  },
  "language_info": {
   "codemirror_mode": {
    "name": "ipython",
    "version": 3
   },
   "file_extension": ".py",
   "mimetype": "text/x-python",
   "name": "python",
   "nbconvert_exporter": "python",
   "pygments_lexer": "ipython3",
   "version": "3.11.3"
  }
 },
 "nbformat": 4,
 "nbformat_minor": 5
}
